{
 "cells": [
  {
   "cell_type": "code",
   "execution_count": 2,
   "metadata": {
    "collapsed": true
   },
   "outputs": [],
   "source": [
    "import pandas as pd \n",
    "\n",
    "data = pd.read_csv('~/Downloads/Fall_2017_Employer_List_for_Packets.csv')"
   ]
  },
  {
   "cell_type": "code",
   "execution_count": 3,
   "metadata": {},
   "outputs": [
    {
     "data": {
      "text/html": [
       "<div>\n",
       "<style>\n",
       "    .dataframe thead tr:only-child th {\n",
       "        text-align: right;\n",
       "    }\n",
       "\n",
       "    .dataframe thead th {\n",
       "        text-align: left;\n",
       "    }\n",
       "\n",
       "    .dataframe tbody tr th {\n",
       "        vertical-align: top;\n",
       "    }\n",
       "</style>\n",
       "<table border=\"1\" class=\"dataframe\">\n",
       "  <thead>\n",
       "    <tr style=\"text-align: right;\">\n",
       "      <th></th>\n",
       "      <th>Employer</th>\n",
       "      <th>Booth #</th>\n",
       "      <th>Majors</th>\n",
       "      <th>Class Level</th>\n",
       "      <th>Employment Type</th>\n",
       "    </tr>\n",
       "  </thead>\n",
       "  <tbody>\n",
       "    <tr>\n",
       "      <th>0</th>\n",
       "      <td>3M</td>\n",
       "      <td>H240, H241, H242</td>\n",
       "      <td>Chem Eng, Comp Eng, Elec Eng, Info Syst, Mgmt ...</td>\n",
       "      <td>SO, JR, SR, MS, PhD</td>\n",
       "      <td>Full-time, Internship/Co-op</td>\n",
       "    </tr>\n",
       "    <tr>\n",
       "      <th>1</th>\n",
       "      <td>ACS</td>\n",
       "      <td>S113</td>\n",
       "      <td>Chem Eng, Civ Eng, Const Eng, Elec Eng, Ind &amp; ...</td>\n",
       "      <td>JR, SR, MS, Alum</td>\n",
       "      <td>Full-time, Internship/Co-op</td>\n",
       "    </tr>\n",
       "    <tr>\n",
       "      <th>2</th>\n",
       "      <td>Adjustable Forms Inc.</td>\n",
       "      <td>S128</td>\n",
       "      <td>Civ Eng, Const Eng, Ind Tech</td>\n",
       "      <td>FR, SO, JR, SR</td>\n",
       "      <td>Internship/Co-op</td>\n",
       "    </tr>\n",
       "    <tr>\n",
       "      <th>3</th>\n",
       "      <td>Affiliated Engineers Inc.</td>\n",
       "      <td>H154</td>\n",
       "      <td>Elec Eng, Mech Eng</td>\n",
       "      <td>JR, SR, MS, Alum</td>\n",
       "      <td>Full-time, Internship/Co-op</td>\n",
       "    </tr>\n",
       "    <tr>\n",
       "      <th>4</th>\n",
       "      <td>Ag Leader Technology</td>\n",
       "      <td>S130</td>\n",
       "      <td>Ag Eng, Comp Eng, Ag Syst Tech, Mech Eng, Soft...</td>\n",
       "      <td>JR, SR</td>\n",
       "      <td>Internship/Co-op</td>\n",
       "    </tr>\n",
       "  </tbody>\n",
       "</table>\n",
       "</div>"
      ],
      "text/plain": [
       "                    Employer           Booth #  \\\n",
       "0                         3M  H240, H241, H242   \n",
       "1                        ACS              S113   \n",
       "2      Adjustable Forms Inc.              S128   \n",
       "3  Affiliated Engineers Inc.              H154   \n",
       "4       Ag Leader Technology              S130   \n",
       "\n",
       "                                              Majors          Class Level  \\\n",
       "0  Chem Eng, Comp Eng, Elec Eng, Info Syst, Mgmt ...  SO, JR, SR, MS, PhD   \n",
       "1  Chem Eng, Civ Eng, Const Eng, Elec Eng, Ind & ...     JR, SR, MS, Alum   \n",
       "2                       Civ Eng, Const Eng, Ind Tech       FR, SO, JR, SR   \n",
       "3                                 Elec Eng, Mech Eng     JR, SR, MS, Alum   \n",
       "4  Ag Eng, Comp Eng, Ag Syst Tech, Mech Eng, Soft...               JR, SR   \n",
       "\n",
       "               Employment Type  \n",
       "0  Full-time, Internship/Co-op  \n",
       "1  Full-time, Internship/Co-op  \n",
       "2             Internship/Co-op  \n",
       "3  Full-time, Internship/Co-op  \n",
       "4             Internship/Co-op  "
      ]
     },
     "execution_count": 3,
     "metadata": {},
     "output_type": "execute_result"
    }
   ],
   "source": [
    "data.head()"
   ]
  },
  {
   "cell_type": "code",
   "execution_count": 3,
   "metadata": {},
   "outputs": [],
   "source": [
    "import requests\n",
    "from bs4 import BeautifulSoup\n",
    "import json\n",
    "\n",
    "soft_companies = data[data['Majors'].str.contains(\"Soft Eng\")]\n",
    "masterlist = soft_companies[soft_companies['Employment Type'].str.contains(\"Full-time\")]"
   ]
  },
  {
   "cell_type": "code",
   "execution_count": 4,
   "metadata": {
    "collapsed": true
   },
   "outputs": [],
   "source": [
    "df = pd.DataFrame(masterlist)\n",
    "filename = './data/softCompanies2017.csv'\n",
    "df.to_csv(filename, index=False, encoding='utf-8')"
   ]
  },
  {
   "cell_type": "code",
   "execution_count": null,
   "metadata": {
    "collapsed": true
   },
   "outputs": [],
   "source": [
    "requests.get"
   ]
  }
 ],
 "metadata": {
  "kernelspec": {
   "display_name": "Python 3",
   "language": "python",
   "name": "python3"
  },
  "language_info": {
   "codemirror_mode": {
    "name": "ipython",
    "version": 3
   },
   "file_extension": ".py",
   "mimetype": "text/x-python",
   "name": "python",
   "nbconvert_exporter": "python",
   "pygments_lexer": "ipython3",
   "version": "3.6.1"
  }
 },
 "nbformat": 4,
 "nbformat_minor": 2
}
